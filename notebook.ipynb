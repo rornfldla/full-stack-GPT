{
 "cells": [
  {
   "cell_type": "code",
   "execution_count": 31,
   "metadata": {},
   "outputs": [],
   "source": [
    "from langchain.llms.openai import OpenAI\n",
    "from langchain.chat_models import ChatOpenAI, ChatAnthropic\n",
    "from langchain.prompts import PromptTemplate, ChatPromptTemplate\n",
    "from langchain.callbacks import StreamingStdOutCallbackHandler\n",
    "\n",
    "chat = ChatOpenAI(model_name=\"gpt-3.5-turbo-1106\", temperature = 0.1, streaming = True, callbacks = [StreamingStdOutCallbackHandler()])\n",
    "\n",
    "chef_prompt = ChatPromptTemplate.from_messages(([\n",
    "    (\"system\", \"You are a world-class international chef. You create easy to follow recipies for any type of cuisine with easy to find ingredients.\"),\n",
    "    (\"human\", \"I want to cook {cuisine} food\"),\n",
    "]))\n",
    "\n",
    "chef_chain = chef_prompt | chat\n"
   ]
  },
  {
   "cell_type": "code",
   "execution_count": 32,
   "metadata": {},
   "outputs": [
    {
     "name": "stdout",
     "output_type": "stream",
     "text": [
      "Great choice! Indian cuisine is full of rich and aromatic flavors. How about trying a classic dish like Chicken Tikka Masala? It's a popular and delicious Indian dish that's sure to impress. Here's a simple recipe for you to try:\n",
      "\n",
      "Ingredients:\n",
      "- 1 lb (450g) boneless, skinless chicken thighs, cut into bite-sized pieces\n",
      "- 1 cup plain yogurt\n",
      "- 2 tablespoons lemon juice\n",
      "- 2 teaspoons ground cumin\n",
      "- 2 teaspoons ground coriander\n",
      "- 1 teaspoon ground turmeric\n",
      "- 1 teaspoon garam masala\n",
      "- 1 teaspoon paprika\n",
      "- 1 teaspoon ground ginger\n",
      "- 3 cloves garlic, minced\n",
      "- 1 tablespoon vegetable oil\n",
      "- 1 onion, finely chopped\n",
      "- 1 can (14 oz) crushed tomatoes\n",
      "- 1 cup heavy cream\n",
      "- Salt and pepper to taste\n",
      "- Fresh cilantro for garnish\n",
      "\n",
      "Instructions:\n",
      "1. In a large bowl, mix together the yogurt, lemon juice, cumin, coriander, turmeric, garam masala, paprika, ginger, and half of the minced garlic. Add the chicken pieces and stir to coat. Cover and refrigerate for at least 1 hour, or overnight for best results.\n",
      "\n",
      "2. Preheat the broiler or grill to high heat. Thread the marinated chicken pieces onto skewers and discard the excess marinade. Broil or grill the chicken for about 5-7 minutes on each side, or until fully cooked and slightly charred. Set aside.\n",
      "\n",
      "3. In a large skillet, heat the vegetable oil over medium heat. Add the chopped onion and cook until softened, about 5 minutes. Add the remaining minced garlic and cook for another minute.\n",
      "\n",
      "4. Stir in the crushed tomatoes and simmer for 10 minutes, stirring occasionally. Add the heavy cream and cooked chicken pieces to the skillet. Simmer for an additional 10 minutes, stirring occasionally, until the sauce has thickened.\n",
      "\n",
      "5. Season with salt and pepper to taste. Garnish with fresh cilantro and serve with steamed rice or naan bread.\n",
      "\n",
      "Enjoy your homemade Chicken Tikka Masala! It's a flavorful and comforting dish that's perfect for a cozy night in.For a vegetarian version of Chicken Tikka Masala, you can replace the chicken with a plant-based alternative such as tofu or paneer. Here's how you can adapt the recipe:\n",
      "\n",
      "Ingredients:\n",
      "- 1 lb (450g) extra-firm tofu or paneer, cut into bite-sized pieces\n",
      "- 1 cup plain yogurt (use a dairy-free yogurt for a vegan version)\n",
      "- 2 tablespoons lemon juice\n",
      "- 2 teaspoons ground cumin\n",
      "- 2 teaspoons ground coriander\n",
      "- 1 teaspoon ground turmeric\n",
      "- 1 teaspoon garam masala\n",
      "- 1 teaspoon paprika\n",
      "- 1 teaspoon ground ginger\n",
      "- 3 cloves garlic, minced\n",
      "- 1 tablespoon vegetable oil\n",
      "- 1 onion, finely chopped\n",
      "- 1 can (14 oz) crushed tomatoes\n",
      "- 1 cup coconut cream (or another dairy-free heavy cream alternative)\n",
      "- Salt and pepper to taste\n",
      "- Fresh cilantro for garnish\n",
      "\n",
      "Instructions:\n",
      "1. In a large bowl, mix together the yogurt, lemon juice, cumin, coriander, turmeric, garam masala, paprika, ginger, and half of the minced garlic. Add the tofu or paneer pieces and stir to coat. Cover and refrigerate for at least 1 hour, or overnight for best results.\n",
      "\n",
      "2. Preheat the broiler or grill to high heat. Thread the marinated tofu or paneer pieces onto skewers and discard the excess marinade. Broil or grill the tofu or paneer for about 5-7 minutes on each side, or until slightly charred. Set aside.\n",
      "\n",
      "3. In a large skillet, heat the vegetable oil over medium heat. Add the chopped onion and cook until softened, about 5 minutes. Add the remaining minced garlic and cook for another minute.\n",
      "\n",
      "4. Stir in the crushed tomatoes and simmer for 10 minutes, stirring occasionally. Add the coconut cream (or dairy-free heavy cream alternative) and cooked tofu or paneer pieces to the skillet. Simmer for an additional 10 minutes, stirring occasionally, until the sauce has thickened.\n",
      "\n",
      "5. Season with salt and pepper to taste. Garnish with fresh cilantro and serve with steamed rice or naan bread.\n",
      "\n",
      "Enjoy your vegetarian version of Chicken Tikka Masala! It's a flavorful and comforting dish that's perfect for a cozy night in."
     ]
    },
    {
     "data": {
      "text/plain": [
       "AIMessageChunk(content=\"For a vegetarian version of Chicken Tikka Masala, you can replace the chicken with a plant-based alternative such as tofu or paneer. Here's how you can adapt the recipe:\\n\\nIngredients:\\n- 1 lb (450g) extra-firm tofu or paneer, cut into bite-sized pieces\\n- 1 cup plain yogurt (use a dairy-free yogurt for a vegan version)\\n- 2 tablespoons lemon juice\\n- 2 teaspoons ground cumin\\n- 2 teaspoons ground coriander\\n- 1 teaspoon ground turmeric\\n- 1 teaspoon garam masala\\n- 1 teaspoon paprika\\n- 1 teaspoon ground ginger\\n- 3 cloves garlic, minced\\n- 1 tablespoon vegetable oil\\n- 1 onion, finely chopped\\n- 1 can (14 oz) crushed tomatoes\\n- 1 cup coconut cream (or another dairy-free heavy cream alternative)\\n- Salt and pepper to taste\\n- Fresh cilantro for garnish\\n\\nInstructions:\\n1. In a large bowl, mix together the yogurt, lemon juice, cumin, coriander, turmeric, garam masala, paprika, ginger, and half of the minced garlic. Add the tofu or paneer pieces and stir to coat. Cover and refrigerate for at least 1 hour, or overnight for best results.\\n\\n2. Preheat the broiler or grill to high heat. Thread the marinated tofu or paneer pieces onto skewers and discard the excess marinade. Broil or grill the tofu or paneer for about 5-7 minutes on each side, or until slightly charred. Set aside.\\n\\n3. In a large skillet, heat the vegetable oil over medium heat. Add the chopped onion and cook until softened, about 5 minutes. Add the remaining minced garlic and cook for another minute.\\n\\n4. Stir in the crushed tomatoes and simmer for 10 minutes, stirring occasionally. Add the coconut cream (or dairy-free heavy cream alternative) and cooked tofu or paneer pieces to the skillet. Simmer for an additional 10 minutes, stirring occasionally, until the sauce has thickened.\\n\\n5. Season with salt and pepper to taste. Garnish with fresh cilantro and serve with steamed rice or naan bread.\\n\\nEnjoy your vegetarian version of Chicken Tikka Masala! It's a flavorful and comforting dish that's perfect for a cozy night in.\")"
      ]
     },
     "execution_count": 32,
     "metadata": {},
     "output_type": "execute_result"
    }
   ],
   "source": [
    "veg_chef_prompt = ChatPromptTemplate.from_messages([\n",
    "    (\"system\", \"You are a vegetarian chef specialized on making traditional recipies vegetarian. You find alternative ingredients and explain their preparation. You don't radically modify the recipe. If there is no alternative for a food just say you don't know how to replace it.\"),\n",
    "    (\"human\", \"{recipe}\"),\n",
    "])\n",
    "\n",
    "veg_chain = veg_chef_prompt | chat\n",
    "\n",
    "final_chain = {\"recipe\" : chef_chain} | veg_chain \n",
    "\n",
    "final_chain.invoke({\n",
    "    \"cuisine\" : \"indian\"\n",
    "})\n"
   ]
  },
  {
   "cell_type": "code",
   "execution_count": null,
   "metadata": {},
   "outputs": [],
   "source": []
  },
  {
   "cell_type": "code",
   "execution_count": null,
   "metadata": {},
   "outputs": [],
   "source": []
  },
  {
   "cell_type": "code",
   "execution_count": null,
   "metadata": {},
   "outputs": [],
   "source": []
  },
  {
   "cell_type": "code",
   "execution_count": null,
   "metadata": {},
   "outputs": [],
   "source": []
  }
 ],
 "metadata": {
  "kernelspec": {
   "display_name": "env",
   "language": "python",
   "name": "python3"
  },
  "language_info": {
   "codemirror_mode": {
    "name": "ipython",
    "version": 3
   },
   "file_extension": ".py",
   "mimetype": "text/x-python",
   "name": "python",
   "nbconvert_exporter": "python",
   "pygments_lexer": "ipython3",
   "version": "3.11.6"
  }
 },
 "nbformat": 4,
 "nbformat_minor": 2
}
