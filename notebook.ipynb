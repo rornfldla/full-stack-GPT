{
 "cells": [
  {
   "cell_type": "code",
   "execution_count": 22,
   "metadata": {},
   "outputs": [
    {
     "data": {
      "text/plain": [
       "'Human : Who is the movie director for Avatar?\\nAI : \\n        The director of Avatar is James Cameron. \\n        In addition to this film, James Cameron has directed films such as Titanic, Abyss, and the Transformers series.\\n        \\n\\nHuman : Who are the main cast members in THE FAST AND THE FURIOUS?'"
      ]
     },
     "execution_count": 22,
     "metadata": {},
     "output_type": "execute_result"
    }
   ],
   "source": [
    "from langchain.chat_models import ChatOpenAI\n",
    "from langchain.prompts.few_shot import FewShotPromptTemplate, FewShotChatMessagePromptTemplate\n",
    "from langchain.prompts.prompt import PromptTemplate\n",
    "from langchain.callbacks import StreamingStdOutCallbackHandler\n",
    "from langchain.prompts.example_selector import LengthBasedExampleSelector\n",
    "from langchain.prompts.example_selector.base import BaseExampleSelector\n",
    "        \n",
    "\n",
    "chat = ChatOpenAI(\n",
    "    model_name=\"gpt-3.5-turbo-1106\",\n",
    "    temperature = 0.1, streaming = True,\n",
    "    callbacks = [StreamingStdOutCallbackHandler()]\n",
    ")\n",
    "\n",
    "examples = [\n",
    "    {\n",
    "        \"question\" : \"Who is the movie director for Avatar?\",\n",
    "        \"answer\" : \"\"\"\n",
    "        The director of Avatar is James Cameron. \n",
    "        In addition to this film, James Cameron has directed films such as Titanic, Abyss, and the Transformers series.\n",
    "        \"\"\",\n",
    "    },\n",
    "\n",
    "    {\n",
    "        \"question\" : \"Who are the main cast members in Avatar?\",\n",
    "        \"answer\" : \"\"\"\n",
    "        The main cast members of the Avatar films include\n",
    "        1. Sam Worthington : Jake Sully, who acts as a link between the humans and the Na'vi.\n",
    "        2. Zoe Saldana: Neytiri, the daughter of a Na'vi chief and Jake Sully's love interest.\n",
    "        3. Stephen Lang: Colonel Miles Quaritch, a ruthless and ambitious soldier in the RDA.\n",
    "        4. Michelle Rodriguez: Sonya, a long-time colleague of Jake Sully's.\n",
    "        5. Sigourney Weaver: Dr Grace Austin, a scientist working on the planet Pandora.\n",
    "        \"\"\",\n",
    "    },\n",
    "\n",
    "    {\n",
    "        \"question\" : \"How many people watched the Avatar film in South Korea?\",\n",
    "        \"answer\" : \"\"\"\n",
    "        In South Korea, the Avatar film was seen by 14 million 3,138 people.\n",
    "        \"\"\",\n",
    "    },\n",
    "\n",
    "    {\n",
    "        \"question\" : \"Tell me about a film called Avatar.\",\n",
    "        \"answer\" : \"\"\"\n",
    "        The film is about scientists on Earth who accidentally discover the planet Pandora, which is home to life, and explore it.\n",
    "        \"\"\",\n",
    "    },\n",
    "]\n",
    "\n",
    "class RandomExampleSelector(BaseExampleSelector) :\n",
    "    def __init__(self, examples) :\n",
    "        self.examples = examples\n",
    "\n",
    "    def add_example(self, example) :\n",
    "        self.examples.append(example)\n",
    "\n",
    "    def select_examples(self, input_variables) :\n",
    "        from random import choice\n",
    "        return [choice(self.examples)]\n",
    "\n",
    "example_prompt = PromptTemplate.from_template(\"Human : {question}\\nAI : {answer}\")\n",
    "\n",
    "example_selector = RandomExampleSelector(\n",
    "    examples = examples,\n",
    ")\n",
    "\n",
    "prompt = FewShotPromptTemplate(\n",
    "    example_prompt = example_prompt,\n",
    "    example_selector = example_selector,\n",
    "    suffix = \"Human : Who are the main cast members in {Movie}?\",\n",
    "    input_variables = [\"Movie\"],\n",
    ")\n",
    "\n",
    "prompt.format(Movie = \"THE FAST AND THE FURIOUS\")"
   ]
  },
  {
   "cell_type": "code",
   "execution_count": null,
   "metadata": {},
   "outputs": [],
   "source": []
  },
  {
   "cell_type": "code",
   "execution_count": null,
   "metadata": {},
   "outputs": [],
   "source": []
  },
  {
   "cell_type": "code",
   "execution_count": null,
   "metadata": {},
   "outputs": [],
   "source": []
  },
  {
   "cell_type": "code",
   "execution_count": null,
   "metadata": {},
   "outputs": [],
   "source": []
  },
  {
   "cell_type": "code",
   "execution_count": null,
   "metadata": {},
   "outputs": [],
   "source": []
  },
  {
   "cell_type": "code",
   "execution_count": null,
   "metadata": {},
   "outputs": [],
   "source": []
  },
  {
   "cell_type": "code",
   "execution_count": null,
   "metadata": {},
   "outputs": [],
   "source": []
  }
 ],
 "metadata": {
  "kernelspec": {
   "display_name": "env",
   "language": "python",
   "name": "python3"
  },
  "language_info": {
   "codemirror_mode": {
    "name": "ipython",
    "version": 3
   },
   "file_extension": ".py",
   "mimetype": "text/x-python",
   "name": "python",
   "nbconvert_exporter": "python",
   "pygments_lexer": "ipython3",
   "version": "3.11.6"
  }
 },
 "nbformat": 4,
 "nbformat_minor": 2
}
